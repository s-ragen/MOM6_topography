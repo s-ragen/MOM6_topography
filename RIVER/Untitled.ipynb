{
 "cells": [
  {
   "cell_type": "code",
   "execution_count": 1,
   "metadata": {},
   "outputs": [],
   "source": [
    "import xarray as xr\n",
    "import matplotlib.pyplot as plt\n",
    "import numpy as np"
   ]
  },
  {
   "cell_type": "code",
   "execution_count": 5,
   "metadata": {},
   "outputs": [],
   "source": [
    "riverfile = 'river_destination_field_new'\n",
    "landfile = '/data2/sragen/MOM6_cases/aquaplanet/aqua/run/preprocessing/twopole_topography.nc'\n",
    "\n",
    "r = open(riverfile,'r')\n",
    "t = xr.open_dataset(landfile)"
   ]
  },
  {
   "cell_type": "code",
   "execution_count": 6,
   "metadata": {},
   "outputs": [
    {
     "data": {
      "text/plain": [
       "<xarray.Dataset>\n",
       "Dimensions:  (nx: 180, ny: 81)\n",
       "Dimensions without coordinates: nx, ny\n",
       "Data variables:\n",
       "    geolon   (ny, nx) float64 ...\n",
       "    geolat   (ny, nx) float64 ...\n",
       "    depth    (ny, nx) float64 ...\n",
       "    std      (ny, nx) float64 ..."
      ]
     },
     "execution_count": 6,
     "metadata": {},
     "output_type": "execute_result"
    }
   ],
   "source": [
    "t"
   ]
  },
  {
   "cell_type": "code",
   "execution_count": null,
   "metadata": {},
   "outputs": [],
   "source": []
  }
 ],
 "metadata": {
  "kernelspec": {
   "display_name": "Python 3",
   "language": "python",
   "name": "python3"
  },
  "language_info": {
   "codemirror_mode": {
    "name": "ipython",
    "version": 3
   },
   "file_extension": ".py",
   "mimetype": "text/x-python",
   "name": "python",
   "nbconvert_exporter": "python",
   "pygments_lexer": "ipython3",
   "version": "3.7.3"
  }
 },
 "nbformat": 4,
 "nbformat_minor": 2
}
