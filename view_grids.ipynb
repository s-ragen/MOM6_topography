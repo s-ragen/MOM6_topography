{
 "cells": [
  {
   "cell_type": "code",
   "execution_count": 1,
   "metadata": {},
   "outputs": [],
   "source": [
    "import numpy as np\n",
    "import matplotlib.pyplot as plt\n",
    "import xarray as xr"
   ]
  },
  {
   "cell_type": "code",
   "execution_count": 2,
   "metadata": {},
   "outputs": [],
   "source": [
    "ds = xr.open_dataset('twopole_topography.nc')\n"
   ]
  },
  {
   "cell_type": "code",
   "execution_count": 3,
   "metadata": {},
   "outputs": [
    {
     "data": {
      "text/plain": [
       "<matplotlib.collections.QuadMesh at 0x7fde982da250>"
      ]
     },
     "execution_count": 3,
     "metadata": {},
     "output_type": "execute_result"
    },
    {
     "data": {
      "image/png": "[encoded data removed]",
      "text/plain": [
       "<Figure size 432x288 with 2 Axes>"
      ]
     },
     "metadata": {
      "needs_background": "light"
     },
     "output_type": "display_data"
    }
   ],
   "source": [
    "ds.depth.plot()\n"
   ]
  },
  {
   "cell_type": "code",
   "execution_count": 4,
   "metadata": {},
   "outputs": [
    {
     "data": {
      "text/html": [
       "<pre>&lt;xarray.DataArray &#x27;depth&#x27; (nx: 180)&gt;\n",
       "array([4000., 4000., 4000., 4000., 4000., 4000., 4000., 4000., 4000., 4000.,\n",
       "       4000., 4000., 4000., 4000., 4000., 4000., 4000., 4000., 4000., 4000.,\n",
       "       4000., 4000., 4000., 4000., 4000., 4000., 4000., 4000., 4000., 4000.,\n",
       "       4000., 4000., 4000., 4000., 4000., 4000., 4000., 4000., 4000., 4000.,\n",
       "       4000., 4000., 4000., 4000., 4000., 4000., 4000., 4000., 4000., 4000.,\n",
       "       4000., 4000., 4000., 4000., 4000., 4000., 4000., 4000., 4000., 4000.,\n",
       "       4000., 4000., 4000., 4000., 4000., 4000., 4000., 4000., 4000., 4000.,\n",
       "       4000., 4000., 4000., 4000., 4000., 4000., 4000., 4000., 4000., 4000.,\n",
       "       4000., 4000., 4000., 4000., 4000., 4000., 4000., 4000., 4000., 4000.,\n",
       "       4000., 4000., 4000., 4000., 4000., 4000., 4000., 4000., 4000., 4000.,\n",
       "       4000., 4000., 4000., 4000., 4000., 4000., 4000., 4000., 4000., 4000.,\n",
       "       4000., 4000., 4000., 4000., 4000., 4000., 4000., 4000., 4000., 4000.,\n",
       "       4000., 4000., 4000., 4000., 4000., 4000., 4000., 4000., 4000., 4000.,\n",
       "       4000., 4000., 4000., 4000., 4000., 4000., 4000., 4000., 4000., 4000.,\n",
       "       4000., 4000., 4000., 4000., 4000., 4000., 4000., 4000., 4000., 4000.,\n",
       "       4000., 4000., 4000., 4000., 4000., 4000., 4000., 4000., 4000., 4000.,\n",
       "       4000., 4000., 4000., 4000., 4000., 4000., 4000., 4000., 4000., 4000.,\n",
       "       4000., 4000., 4000., 4000., 4000., 4000., 4000., 4000., 4000., 4000.])\n",
       "Dimensions without coordinates: nx\n",
       "Attributes:\n",
       "    units:          meters\n",
       "    standard_name:  topographic depth at T-cell centers</pre>"
      ],
      "text/plain": [
       "<xarray.DataArray 'depth' (nx: 180)>\n",
       "array([4000., 4000., 4000., 4000., 4000., 4000., 4000., 4000., 4000., 4000.,\n",
       "       4000., 4000., 4000., 4000., 4000., 4000., 4000., 4000., 4000., 4000.,\n",
       "       4000., 4000., 4000., 4000., 4000., 4000., 4000., 4000., 4000., 4000.,\n",
       "       4000., 4000., 4000., 4000., 4000., 4000., 4000., 4000., 4000., 4000.,\n",
       "       4000., 4000., 4000., 4000., 4000., 4000., 4000., 4000., 4000., 4000.,\n",
       "       4000., 4000., 4000., 4000., 4000., 4000., 4000., 4000., 4000., 4000.,\n",
       "       4000., 4000., 4000., 4000., 4000., 4000., 4000., 4000., 4000., 4000.,\n",
       "       4000., 4000., 4000., 4000., 4000., 4000., 4000., 4000., 4000., 4000.,\n",
       "       4000., 4000., 4000., 4000., 4000., 4000., 4000., 4000., 4000., 4000.,\n",
       "       4000., 4000., 4000., 4000., 4000., 4000., 4000., 4000., 4000., 4000.,\n",
       "       4000., 4000., 4000., 4000., 4000., 4000., 4000., 4000., 4000., 4000.,\n",
       "       4000., 4000., 4000., 4000., 4000., 4000., 4000., 4000., 4000., 4000.,\n",
       "       4000., 4000., 4000., 4000., 4000., 4000., 4000., 4000., 4000., 4000.,\n",
       "       4000., 4000., 4000., 4000., 4000., 4000., 4000., 4000., 4000., 4000.,\n",
       "       4000., 4000., 4000., 4000., 4000., 4000., 4000., 4000., 4000., 4000.,\n",
       "       4000., 4000., 4000., 4000., 4000., 4000., 4000., 4000., 4000., 4000.,\n",
       "       4000., 4000., 4000., 4000., 4000., 4000., 4000., 4000., 4000., 4000.,\n",
       "       4000., 4000., 4000., 4000., 4000., 4000., 4000., 4000., 4000., 4000.])\n",
       "Dimensions without coordinates: nx\n",
       "Attributes:\n",
       "    units:          meters\n",
       "    standard_name:  topographic depth at T-cell centers"
      ]
     },
     "execution_count": 4,
     "metadata": {},
     "output_type": "execute_result"
    }
   ],
   "source": [
    "ds.depth[50,:]"
   ]
  },
  {
   "cell_type": "code",
   "execution_count": 5,
   "metadata": {
    "scrolled": false
   },
   "outputs": [
    {
     "name": "stdout",
     "output_type": "stream",
     "text": [
      "<xarray.Dataset>\n",
      "Dimensions:  (nx: 180, ny: 124)\n",
      "Dimensions without coordinates: nx, ny\n",
      "Data variables:\n",
      "    mask     (ny, nx) float64 ...\n",
      "Attributes:\n",
      "    grid_version:  0.2\n",
      "    code_version:  $Name: fre-nctools-bronx-10 $\n",
      "    history:       /ptardat2/ashao/local/gaggle/FRE-NCtools/build.fre-nctools...\n"
     ]
    },
    {
     "data": {
      "text/plain": [
       "<matplotlib.contour.QuadContourSet at 0x7fde96bf4c90>"
      ]
     },
     "execution_count": 5,
     "metadata": {},
     "output_type": "execute_result"
    },
    {
     "data": {
      "image/png": "[encoded data removed]",
      "text/plain": [
       "<Figure size 432x288 with 1 Axes>"
      ]
     },
     "metadata": {
      "needs_background": "light"
     },
     "output_type": "display_data"
    }
   ],
   "source": [
    "ds = xr.open_dataset('ocean_mask.nc')\n",
    "print(ds)\n",
    "\n",
    "\n",
    "plt.contourf(ds.mask)"
   ]
  },
  {
   "cell_type": "code",
   "execution_count": 6,
   "metadata": {},
   "outputs": [
    {
     "data": {
      "text/html": [
       "<pre>&lt;xarray.DataArray &#x27;mask&#x27; (nx: 180)&gt;\n",
       "array([1., 1., 1., 1., 1., 1., 1., 1., 1., 1., 1., 1., 1., 1., 1., 1., 1., 1.,\n",
       "       1., 1., 1., 1., 1., 1., 1., 1., 1., 1., 1., 1., 1., 1., 1., 1., 1., 1.,\n",
       "       1., 1., 1., 1., 1., 1., 1., 1., 1., 1., 1., 1., 1., 1., 1., 1., 1., 1.,\n",
       "       1., 1., 1., 1., 1., 1., 1., 1., 1., 1., 1., 1., 1., 1., 1., 1., 1., 1.,\n",
       "       1., 1., 1., 1., 1., 1., 1., 1., 1., 1., 1., 1., 1., 1., 1., 1., 1., 1.,\n",
       "       1., 1., 1., 1., 1., 1., 1., 1., 1., 1., 1., 1., 1., 1., 1., 1., 1., 1.,\n",
       "       1., 1., 1., 1., 1., 1., 1., 1., 1., 1., 1., 1., 1., 1., 1., 1., 1., 1.,\n",
       "       1., 1., 1., 1., 1., 1., 1., 1., 1., 1., 1., 1., 1., 1., 1., 1., 1., 1.,\n",
       "       1., 1., 1., 1., 1., 1., 1., 1., 1., 1., 1., 1., 1., 1., 1., 1., 1., 1.,\n",
       "       1., 1., 1., 1., 1., 1., 1., 1., 1., 1., 1., 1., 1., 1., 1., 1., 1., 1.])\n",
       "Dimensions without coordinates: nx\n",
       "Attributes:\n",
       "    standard_name:  ocean fraction at T-cell centers\n",
       "    units:          none</pre>"
      ],
      "text/plain": [
       "<xarray.DataArray 'mask' (nx: 180)>\n",
       "array([1., 1., 1., 1., 1., 1., 1., 1., 1., 1., 1., 1., 1., 1., 1., 1., 1., 1.,\n",
       "       1., 1., 1., 1., 1., 1., 1., 1., 1., 1., 1., 1., 1., 1., 1., 1., 1., 1.,\n",
       "       1., 1., 1., 1., 1., 1., 1., 1., 1., 1., 1., 1., 1., 1., 1., 1., 1., 1.,\n",
       "       1., 1., 1., 1., 1., 1., 1., 1., 1., 1., 1., 1., 1., 1., 1., 1., 1., 1.,\n",
       "       1., 1., 1., 1., 1., 1., 1., 1., 1., 1., 1., 1., 1., 1., 1., 1., 1., 1.,\n",
       "       1., 1., 1., 1., 1., 1., 1., 1., 1., 1., 1., 1., 1., 1., 1., 1., 1., 1.,\n",
       "       1., 1., 1., 1., 1., 1., 1., 1., 1., 1., 1., 1., 1., 1., 1., 1., 1., 1.,\n",
       "       1., 1., 1., 1., 1., 1., 1., 1., 1., 1., 1., 1., 1., 1., 1., 1., 1., 1.,\n",
       "       1., 1., 1., 1., 1., 1., 1., 1., 1., 1., 1., 1., 1., 1., 1., 1., 1., 1.,\n",
       "       1., 1., 1., 1., 1., 1., 1., 1., 1., 1., 1., 1., 1., 1., 1., 1., 1., 1.])\n",
       "Dimensions without coordinates: nx\n",
       "Attributes:\n",
       "    standard_name:  ocean fraction at T-cell centers\n",
       "    units:          none"
      ]
     },
     "execution_count": 6,
     "metadata": {},
     "output_type": "execute_result"
    }
   ],
   "source": [
    "ds.mask[50,:]"
   ]
  },
  {
   "cell_type": "code",
   "execution_count": 7,
   "metadata": {},
   "outputs": [
    {
     "data": {
      "text/html": [
       "<pre>&lt;xarray.DataArray &#x27;ny&#x27; (ny: 124)&gt;\n",
       "array([  0,   1,   2,   3,   4,   5,   6,   7,   8,   9,  10,  11,  12,  13,\n",
       "        14,  15,  16,  17,  18,  19,  20,  21,  22,  23,  24,  25,  26,  27,\n",
       "        28,  29,  30,  31,  32,  33,  34,  35,  36,  37,  38,  39,  40,  41,\n",
       "        42,  43,  44,  45,  46,  47,  48,  49,  50,  51,  52,  53,  54,  55,\n",
       "        56,  57,  58,  59,  60,  61,  62,  63,  64,  65,  66,  67,  68,  69,\n",
       "        70,  71,  72,  73,  74,  75,  76,  77,  78,  79,  80,  81,  82,  83,\n",
       "        84,  85,  86,  87,  88,  89,  90,  91,  92,  93,  94,  95,  96,  97,\n",
       "        98,  99, 100, 101, 102, 103, 104, 105, 106, 107, 108, 109, 110, 111,\n",
       "       112, 113, 114, 115, 116, 117, 118, 119, 120, 121, 122, 123])\n",
       "Dimensions without coordinates: ny</pre>"
      ],
      "text/plain": [
       "<xarray.DataArray 'ny' (ny: 124)>\n",
       "array([  0,   1,   2,   3,   4,   5,   6,   7,   8,   9,  10,  11,  12,  13,\n",
       "        14,  15,  16,  17,  18,  19,  20,  21,  22,  23,  24,  25,  26,  27,\n",
       "        28,  29,  30,  31,  32,  33,  34,  35,  36,  37,  38,  39,  40,  41,\n",
       "        42,  43,  44,  45,  46,  47,  48,  49,  50,  51,  52,  53,  54,  55,\n",
       "        56,  57,  58,  59,  60,  61,  62,  63,  64,  65,  66,  67,  68,  69,\n",
       "        70,  71,  72,  73,  74,  75,  76,  77,  78,  79,  80,  81,  82,  83,\n",
       "        84,  85,  86,  87,  88,  89,  90,  91,  92,  93,  94,  95,  96,  97,\n",
       "        98,  99, 100, 101, 102, 103, 104, 105, 106, 107, 108, 109, 110, 111,\n",
       "       112, 113, 114, 115, 116, 117, 118, 119, 120, 121, 122, 123])\n",
       "Dimensions without coordinates: ny"
      ]
     },
     "execution_count": 7,
     "metadata": {},
     "output_type": "execute_result"
    }
   ],
   "source": [
    "ds.ny"
   ]
  },
  {
   "cell_type": "code",
   "execution_count": 8,
   "metadata": {},
   "outputs": [
    {
     "name": "stdout",
     "output_type": "stream",
     "text": [
      "<xarray.Dataset>\n",
      "Dimensions:  (nx: 144, ny: 90)\n",
      "Dimensions without coordinates: nx, ny\n",
      "Data variables:\n",
      "    mask     (ny, nx) float64 ...\n",
      "Attributes:\n",
      "    grid_version:  0.2\n",
      "    code_version:  $Name: fre-nctools-bronx-10 $\n",
      "    history:       /ptardat2/ashao/local/gaggle/FRE-NCtools/build.fre-nctools...\n"
     ]
    },
    {
     "data": {
      "text/plain": [
       "<matplotlib.contour.QuadContourSet at 0x7fde96b6b990>"
      ]
     },
     "execution_count": 8,
     "metadata": {},
     "output_type": "execute_result"
    },
    {
     "data": {
      "image/png": "[encoded data removed]",
      "text/plain": [
       "<Figure size 432x288 with 1 Axes>"
      ]
     },
     "metadata": {
      "needs_background": "light"
     },
     "output_type": "display_data"
    }
   ],
   "source": [
    "ds = xr.open_dataset('land_mask.nc')\n",
    "print(ds)\n",
    "\n",
    "plt.contourf(ds.mask)"
   ]
  },
  {
   "cell_type": "code",
   "execution_count": 9,
   "metadata": {},
   "outputs": [
    {
     "data": {
      "text/html": [
       "<pre>&lt;xarray.DataArray &#x27;mask&#x27; (nx: 144)&gt;\n",
       "array([0., 0., 0., 0., 0., 0., 0., 0., 0., 0., 0., 0., 0., 0., 0., 0., 0., 0.,\n",
       "       0., 0., 0., 0., 0., 0., 0., 0., 0., 0., 0., 0., 0., 0., 0., 0., 0., 0.,\n",
       "       0., 0., 0., 0., 0., 0., 0., 0., 0., 0., 0., 0., 0., 0., 0., 0., 0., 0.,\n",
       "       0., 0., 0., 0., 0., 0., 0., 0., 0., 0., 0., 0., 0., 0., 0., 0., 0., 0.,\n",
       "       0., 0., 0., 0., 0., 0., 0., 0., 0., 0., 0., 0., 0., 0., 0., 0., 0., 0.,\n",
       "       0., 0., 0., 0., 0., 0., 0., 0., 0., 0., 0., 0., 0., 0., 0., 0., 0., 0.,\n",
       "       0., 0., 0., 0., 0., 0., 0., 0., 0., 0., 0., 0., 0., 0., 0., 0., 0., 0.,\n",
       "       0., 0., 0., 0., 0., 0., 0., 0., 0., 0., 0., 0., 0., 0., 0., 0., 0., 0.])\n",
       "Dimensions without coordinates: nx\n",
       "Attributes:\n",
       "    standard_name:  land fraction at T-cell centers\n",
       "    units:          none</pre>"
      ],
      "text/plain": [
       "<xarray.DataArray 'mask' (nx: 144)>\n",
       "array([0., 0., 0., 0., 0., 0., 0., 0., 0., 0., 0., 0., 0., 0., 0., 0., 0., 0.,\n",
       "       0., 0., 0., 0., 0., 0., 0., 0., 0., 0., 0., 0., 0., 0., 0., 0., 0., 0.,\n",
       "       0., 0., 0., 0., 0., 0., 0., 0., 0., 0., 0., 0., 0., 0., 0., 0., 0., 0.,\n",
       "       0., 0., 0., 0., 0., 0., 0., 0., 0., 0., 0., 0., 0., 0., 0., 0., 0., 0.,\n",
       "       0., 0., 0., 0., 0., 0., 0., 0., 0., 0., 0., 0., 0., 0., 0., 0., 0., 0.,\n",
       "       0., 0., 0., 0., 0., 0., 0., 0., 0., 0., 0., 0., 0., 0., 0., 0., 0., 0.,\n",
       "       0., 0., 0., 0., 0., 0., 0., 0., 0., 0., 0., 0., 0., 0., 0., 0., 0., 0.,\n",
       "       0., 0., 0., 0., 0., 0., 0., 0., 0., 0., 0., 0., 0., 0., 0., 0., 0., 0.])\n",
       "Dimensions without coordinates: nx\n",
       "Attributes:\n",
       "    standard_name:  land fraction at T-cell centers\n",
       "    units:          none"
      ]
     },
     "execution_count": 9,
     "metadata": {},
     "output_type": "execute_result"
    }
   ],
   "source": [
    "ds.mask[50,:]"
   ]
  },
  {
   "cell_type": "code",
   "execution_count": 10,
   "metadata": {},
   "outputs": [],
   "source": [
    "ds.mask[-1,:] = ds.mask[1,:]"
   ]
  },
  {
   "cell_type": "code",
   "execution_count": 11,
   "metadata": {},
   "outputs": [
    {
     "data": {
      "text/plain": [
       "<matplotlib.collections.QuadMesh at 0x7fde96b3e850>"
      ]
     },
     "execution_count": 11,
     "metadata": {},
     "output_type": "execute_result"
    },
    {
     "data": {
      "image/png": "[encoded data removed]",
      "text/plain": [
       "<Figure size 432x288 with 2 Axes>"
      ]
     },
     "metadata": {
      "needs_background": "light"
     },
     "output_type": "display_data"
    }
   ],
   "source": [
    "ds.mask.plot()"
   ]
  },
  {
   "cell_type": "code",
   "execution_count": 12,
   "metadata": {},
   "outputs": [],
   "source": [
    "ds.to_netcdf('new_land_mask.nc', mode='w')"
   ]
  },
  {
   "cell_type": "code",
   "execution_count": 13,
   "metadata": {},
   "outputs": [
    {
     "name": "stdout",
     "output_type": "stream",
     "text": [
      "<xarray.Dataset>\n",
      "Dimensions:  (nx: 144, ny: 90)\n",
      "Dimensions without coordinates: nx, ny\n",
      "Data variables:\n",
      "    mask     (ny, nx) float64 ...\n",
      "Attributes:\n",
      "    grid_version:  0.2\n",
      "    code_version:  $Name: fre-nctools-bronx-10 $\n",
      "    history:       /ptardat2/ashao/local/gaggle/FRE-NCtools/build.fre-nctools...\n"
     ]
    },
    {
     "data": {
      "text/plain": [
       "<matplotlib.collections.QuadMesh at 0x7fde96a44a90>"
      ]
     },
     "execution_count": 13,
     "metadata": {},
     "output_type": "execute_result"
    },
    {
     "data": {
      "image/png": "[encoded data removed]",
      "text/plain": [
       "<Figure size 432x288 with 2 Axes>"
      ]
     },
     "metadata": {
      "needs_background": "light"
     },
     "output_type": "display_data"
    }
   ],
   "source": [
    "ds = xr.open_dataset('new_land_mask.nc')\n",
    "print(ds)\n",
    "\n",
    "ds.mask.plot()"
   ]
  },
  {
   "cell_type": "code",
   "execution_count": null,
   "metadata": {},
   "outputs": [],
   "source": []
  }
 ],
 "metadata": {
  "kernelspec": {
   "display_name": "Python 3",
   "language": "python",
   "name": "python3"
  },
  "language_info": {
   "codemirror_mode": {
    "name": "ipython",
    "version": 3
   },
   "file_extension": ".py",
   "mimetype": "text/x-python",
   "name": "python",
   "nbconvert_exporter": "python",
   "pygments_lexer": "ipython3",
   "version": "3.7.6"
  }
 },
 "nbformat": 4,
 "nbformat_minor": 4
}
